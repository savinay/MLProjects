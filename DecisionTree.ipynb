{
 "cells": [
  {
   "cell_type": "markdown",
   "metadata": {},
   "source": [
    "## Report"
   ]
  },
  {
   "cell_type": "markdown",
   "metadata": {},
   "source": [
    "We perform classification of the data using Decision Tree. In the first case, we split the tree using Cross-Entropy and in the second case, we split it using Gini Index. \n",
    "\n",
    "Alogrithm:\n",
    "\n",
    "1. From all attributes list, find the node with minimum Cross-Entropy/Gini-Index\n",
    "2. Split the data into values from this attribute\n",
    "3. Assign the node from the remaining attributes to each split data by selecting the node with minimum entropy/gini-index for each splitted data\n",
    "4. Go to Step 2\n",
    "\n",
    "I performed a BFS of the tree and calculated the accuracy at each level of the tree. There are [0,1,2] levels in the tree and the accuracy is reported on levels 1 and 2. \n",
    "\n",
    "The tree calculated from Gini-Index is same as tree calculated from Cross-Entropy. The values of Gini-Index at each node is less that from the corresponding Cross-Entropy."
   ]
  },
  {
   "cell_type": "code",
   "execution_count": 1,
   "metadata": {
    "collapsed": true
   },
   "outputs": [],
   "source": [
    "import pandas as pd\n",
    "import numpy as np"
   ]
  },
  {
   "cell_type": "code",
   "execution_count": 2,
   "metadata": {
    "collapsed": true
   },
   "outputs": [],
   "source": [
    "data = pd.read_csv('hw2_question1.csv', \\\n",
    "    names = [\"Clump Thickness\", \"Uniformity of Cell Size\", \n",
    "             \"Uniformity of Cell Shape\", \"Marginal Adhesion\",\n",
    "            \"Single Epithelial Cell Size\", \"Bare Nuclei\",\n",
    "            \"Bland Chromatin\", \"Normal Nucleoli:\",\n",
    "            \"Mitoses\", \"Class\"])"
   ]
  },
  {
   "cell_type": "code",
   "execution_count": 3,
   "metadata": {
    "collapsed": false
   },
   "outputs": [
    {
     "data": {
      "text/html": [
       "<div style=\"max-height:1000px;max-width:1500px;overflow:auto;\">\n",
       "<table border=\"1\" class=\"dataframe\">\n",
       "  <thead>\n",
       "    <tr style=\"text-align: right;\">\n",
       "      <th></th>\n",
       "      <th>Clump Thickness</th>\n",
       "      <th>Uniformity of Cell Size</th>\n",
       "      <th>Uniformity of Cell Shape</th>\n",
       "      <th>Marginal Adhesion</th>\n",
       "      <th>Single Epithelial Cell Size</th>\n",
       "      <th>Bare Nuclei</th>\n",
       "      <th>Bland Chromatin</th>\n",
       "      <th>Normal Nucleoli:</th>\n",
       "      <th>Mitoses</th>\n",
       "      <th>Class</th>\n",
       "    </tr>\n",
       "  </thead>\n",
       "  <tbody>\n",
       "    <tr>\n",
       "      <th>0</th>\n",
       "      <td>5</td>\n",
       "      <td>1</td>\n",
       "      <td>1</td>\n",
       "      <td>1</td>\n",
       "      <td>2</td>\n",
       "      <td>1</td>\n",
       "      <td>3</td>\n",
       "      <td>1</td>\n",
       "      <td>1</td>\n",
       "      <td>2</td>\n",
       "    </tr>\n",
       "    <tr>\n",
       "      <th>1</th>\n",
       "      <td>5</td>\n",
       "      <td>4</td>\n",
       "      <td>4</td>\n",
       "      <td>5</td>\n",
       "      <td>7</td>\n",
       "      <td>10</td>\n",
       "      <td>3</td>\n",
       "      <td>2</td>\n",
       "      <td>1</td>\n",
       "      <td>2</td>\n",
       "    </tr>\n",
       "    <tr>\n",
       "      <th>2</th>\n",
       "      <td>3</td>\n",
       "      <td>1</td>\n",
       "      <td>1</td>\n",
       "      <td>1</td>\n",
       "      <td>2</td>\n",
       "      <td>2</td>\n",
       "      <td>3</td>\n",
       "      <td>1</td>\n",
       "      <td>1</td>\n",
       "      <td>2</td>\n",
       "    </tr>\n",
       "    <tr>\n",
       "      <th>3</th>\n",
       "      <td>6</td>\n",
       "      <td>8</td>\n",
       "      <td>8</td>\n",
       "      <td>1</td>\n",
       "      <td>3</td>\n",
       "      <td>4</td>\n",
       "      <td>3</td>\n",
       "      <td>7</td>\n",
       "      <td>1</td>\n",
       "      <td>2</td>\n",
       "    </tr>\n",
       "    <tr>\n",
       "      <th>4</th>\n",
       "      <td>4</td>\n",
       "      <td>1</td>\n",
       "      <td>1</td>\n",
       "      <td>3</td>\n",
       "      <td>2</td>\n",
       "      <td>1</td>\n",
       "      <td>3</td>\n",
       "      <td>1</td>\n",
       "      <td>1</td>\n",
       "      <td>2</td>\n",
       "    </tr>\n",
       "  </tbody>\n",
       "</table>\n",
       "</div>"
      ],
      "text/plain": [
       "   Clump Thickness  Uniformity of Cell Size  Uniformity of Cell Shape  \\\n",
       "0                5                        1                         1   \n",
       "1                5                        4                         4   \n",
       "2                3                        1                         1   \n",
       "3                6                        8                         8   \n",
       "4                4                        1                         1   \n",
       "\n",
       "   Marginal Adhesion  Single Epithelial Cell Size  Bare Nuclei  \\\n",
       "0                  1                            2            1   \n",
       "1                  5                            7           10   \n",
       "2                  1                            2            2   \n",
       "3                  1                            3            4   \n",
       "4                  3                            2            1   \n",
       "\n",
       "   Bland Chromatin  Normal Nucleoli:  Mitoses  Class  \n",
       "0                3                 1        1      2  \n",
       "1                3                 2        1      2  \n",
       "2                3                 1        1      2  \n",
       "3                3                 7        1      2  \n",
       "4                3                 1        1      2  "
      ]
     },
     "execution_count": 3,
     "metadata": {},
     "output_type": "execute_result"
    }
   ],
   "source": [
    "data.head()"
   ]
  },
  {
   "cell_type": "code",
   "execution_count": 288,
   "metadata": {
    "collapsed": false
   },
   "outputs": [
    {
     "data": {
      "text/plain": [
       "2    444\n",
       "4    239\n",
       "dtype: int64"
      ]
     },
     "execution_count": 288,
     "metadata": {},
     "output_type": "execute_result"
    }
   ],
   "source": [
    "data['Class'].value_counts()"
   ]
  },
  {
   "cell_type": "markdown",
   "metadata": {},
   "source": [
    "There are 444 samples of class 2 and 239 samples of class 4"
   ]
  },
  {
   "cell_type": "markdown",
   "metadata": {},
   "source": [
    "### Dividing the data set into training and test set with equal proportions of both the classes"
   ]
  },
  {
   "cell_type": "code",
   "execution_count": 6,
   "metadata": {
    "collapsed": false
   },
   "outputs": [
    {
     "name": "stdout",
     "output_type": "stream",
     "text": [
      "457 226\n"
     ]
    }
   ],
   "source": [
    "#Dividing the data set into training and test set with equal proportions of both the classes\n",
    "\n",
    "from sklearn.model_selection import train_test_split\n",
    "train, test = train_test_split(data, test_size=0.33, \\\n",
    "                               stratify=data[['Class']])\n",
    "print len(train), len(test)"
   ]
  },
  {
   "cell_type": "code",
   "execution_count": 298,
   "metadata": {
    "collapsed": false
   },
   "outputs": [
    {
     "data": {
      "text/plain": [
       "2    297\n",
       "4    160\n",
       "dtype: int64"
      ]
     },
     "execution_count": 298,
     "metadata": {},
     "output_type": "execute_result"
    }
   ],
   "source": [
    "train['Class'].value_counts()"
   ]
  },
  {
   "cell_type": "code",
   "execution_count": 299,
   "metadata": {
    "collapsed": false
   },
   "outputs": [
    {
     "data": {
      "text/plain": [
       "2    147\n",
       "4     79\n",
       "dtype: int64"
      ]
     },
     "execution_count": 299,
     "metadata": {},
     "output_type": "execute_result"
    }
   ],
   "source": [
    "test['Class'].value_counts()"
   ]
  },
  {
   "cell_type": "markdown",
   "metadata": {},
   "source": [
    "##### Ratio of both classes in test and train datasets"
   ]
  },
  {
   "cell_type": "code",
   "execution_count": 31,
   "metadata": {
    "collapsed": false
   },
   "outputs": [
    {
     "name": "stdout",
     "output_type": "stream",
     "text": [
      "Ratio of classes in train dataset:  1.85625\n",
      "Ratio of classes in test dataset:  1.86075949367\n"
     ]
    }
   ],
   "source": [
    "ratio_train = 297.0/160\n",
    "print \"Ratio of classes in train dataset: \", ratio_train\n",
    "\n",
    "ratio_test = 147.0/79\n",
    "print \"Ratio of classes in test dataset: \", ratio_test"
   ]
  },
  {
   "cell_type": "code",
   "execution_count": 301,
   "metadata": {
    "collapsed": false
   },
   "outputs": [
    {
     "data": {
      "text/html": [
       "<div style=\"max-height:1000px;max-width:1500px;overflow:auto;\">\n",
       "<table border=\"1\" class=\"dataframe\">\n",
       "  <thead>\n",
       "    <tr style=\"text-align: right;\">\n",
       "      <th></th>\n",
       "      <th>Clump Thickness</th>\n",
       "      <th>Uniformity of Cell Size</th>\n",
       "      <th>Uniformity of Cell Shape</th>\n",
       "      <th>Marginal Adhesion</th>\n",
       "      <th>Single Epithelial Cell Size</th>\n",
       "      <th>Bare Nuclei</th>\n",
       "      <th>Bland Chromatin</th>\n",
       "      <th>Normal Nucleoli:</th>\n",
       "      <th>Mitoses</th>\n",
       "      <th>Class</th>\n",
       "    </tr>\n",
       "  </thead>\n",
       "  <tbody>\n",
       "    <tr>\n",
       "      <th>217</th>\n",
       "      <td>7</td>\n",
       "      <td>5</td>\n",
       "      <td>6</td>\n",
       "      <td>3</td>\n",
       "      <td>3</td>\n",
       "      <td>8</td>\n",
       "      <td>7</td>\n",
       "      <td>4</td>\n",
       "      <td>1</td>\n",
       "      <td>4</td>\n",
       "    </tr>\n",
       "    <tr>\n",
       "      <th>183</th>\n",
       "      <td>1</td>\n",
       "      <td>2</td>\n",
       "      <td>3</td>\n",
       "      <td>1</td>\n",
       "      <td>2</td>\n",
       "      <td>1</td>\n",
       "      <td>3</td>\n",
       "      <td>1</td>\n",
       "      <td>1</td>\n",
       "      <td>2</td>\n",
       "    </tr>\n",
       "    <tr>\n",
       "      <th>220</th>\n",
       "      <td>10</td>\n",
       "      <td>5</td>\n",
       "      <td>7</td>\n",
       "      <td>4</td>\n",
       "      <td>4</td>\n",
       "      <td>10</td>\n",
       "      <td>8</td>\n",
       "      <td>9</td>\n",
       "      <td>1</td>\n",
       "      <td>4</td>\n",
       "    </tr>\n",
       "    <tr>\n",
       "      <th>44</th>\n",
       "      <td>3</td>\n",
       "      <td>7</td>\n",
       "      <td>7</td>\n",
       "      <td>4</td>\n",
       "      <td>4</td>\n",
       "      <td>9</td>\n",
       "      <td>4</td>\n",
       "      <td>8</td>\n",
       "      <td>1</td>\n",
       "      <td>4</td>\n",
       "    </tr>\n",
       "    <tr>\n",
       "      <th>672</th>\n",
       "      <td>4</td>\n",
       "      <td>1</td>\n",
       "      <td>1</td>\n",
       "      <td>1</td>\n",
       "      <td>2</td>\n",
       "      <td>1</td>\n",
       "      <td>1</td>\n",
       "      <td>1</td>\n",
       "      <td>1</td>\n",
       "      <td>2</td>\n",
       "    </tr>\n",
       "  </tbody>\n",
       "</table>\n",
       "</div>"
      ],
      "text/plain": [
       "     Clump Thickness  Uniformity of Cell Size  Uniformity of Cell Shape  \\\n",
       "217                7                        5                         6   \n",
       "183                1                        2                         3   \n",
       "220               10                        5                         7   \n",
       "44                 3                        7                         7   \n",
       "672                4                        1                         1   \n",
       "\n",
       "     Marginal Adhesion  Single Epithelial Cell Size  Bare Nuclei  \\\n",
       "217                  3                            3            8   \n",
       "183                  1                            2            1   \n",
       "220                  4                            4           10   \n",
       "44                   4                            4            9   \n",
       "672                  1                            2            1   \n",
       "\n",
       "     Bland Chromatin  Normal Nucleoli:  Mitoses  Class  \n",
       "217                7                 4        1      4  \n",
       "183                3                 1        1      2  \n",
       "220                8                 9        1      4  \n",
       "44                 4                 8        1      4  \n",
       "672                1                 1        1      2  "
      ]
     },
     "execution_count": 301,
     "metadata": {},
     "output_type": "execute_result"
    }
   ],
   "source": [
    "train.head()"
   ]
  },
  {
   "cell_type": "code",
   "execution_count": 39,
   "metadata": {
    "collapsed": false
   },
   "outputs": [
    {
     "data": {
      "text/plain": [
       "defaultdict(<function __main__.<lambda>>,\n",
       "            {1: [246, 1],\n",
       "             2: [26, 5],\n",
       "             3: [18, 19],\n",
       "             4: [5, 23],\n",
       "             5: [0, 15],\n",
       "             6: [0, 22],\n",
       "             7: [1, 13],\n",
       "             8: [1, 16],\n",
       "             9: [0, 4],\n",
       "             10: [0, 42]})"
      ]
     },
     "execution_count": 39,
     "metadata": {},
     "output_type": "execute_result"
    }
   ],
   "source": [
    "import collections\n",
    "d = train.groupby([\"Uniformity of Cell Size\", \"Class\"]).size().to_dict()\n",
    "hashmap = collections.defaultdict(lambda: [0,0])\n",
    "for key in d:\n",
    "    if key[1] == 2:\n",
    "        hashmap[key[0]][0] = d[key]\n",
    "    if key[1] == 4:\n",
    "        hashmap[key[0]][1] = d[key]\n",
    "hashmap"
   ]
  },
  {
   "cell_type": "markdown",
   "metadata": {},
   "source": [
    "## Decision Tree using Entropy Calculation"
   ]
  },
  {
   "cell_type": "markdown",
   "metadata": {},
   "source": [
    "##### Function to calculate Entropy"
   ]
  },
  {
   "cell_type": "code",
   "execution_count": 40,
   "metadata": {
    "collapsed": false
   },
   "outputs": [],
   "source": [
    "#Step 1 - Calculate Entropy\n",
    "import collections\n",
    "import math\n",
    "def calculate_entropy(attribute, data):\n",
    "    entropy = 0.0\n",
    "    d = data.groupby([attribute, \"Class\"]).size().to_dict()\n",
    "    hashmap = collections.defaultdict(lambda: [0,0])\n",
    "    for key in d:\n",
    "        if key[1] == 2:\n",
    "            hashmap[key[0]][0] = d[key]\n",
    "        if key[1] == 4:\n",
    "            hashmap[key[0]][1] = d[key]\n",
    "    total = sum([sum(x) for x in hashmap.values()])\n",
    "    for key in hashmap:\n",
    "        entropy_branch = 0.0\n",
    "        if hashmap[key][0] != 0.0:\n",
    "            try:\n",
    "                entropy_branch += float(hashmap[key][0])\\\n",
    "                /(sum(hashmap[key])) * \\\n",
    "                np.log2(float(hashmap[key][0])\\\n",
    "                        /(sum(hashmap[key])))\n",
    "            except:\n",
    "                entropy_branch += 0.0\n",
    "        if hashmap[key][1] != 0.0:\n",
    "            try:\n",
    "                entropy_branch += float(hashmap[key][1])\\\n",
    "                /(sum(hashmap[key])) * \\\n",
    "                np.log2(float(hashmap[key][1])\\\n",
    "                        /(sum(hashmap[key])))\n",
    "            except:\n",
    "                entropy_branch += 0.0\n",
    "        entropy += sum(hashmap[key]) * (-entropy_branch)/total \n",
    "    return entropy\n",
    "\n"
   ]
  },
  {
   "cell_type": "markdown",
   "metadata": {},
   "source": [
    "##### Here, we calculate the first node to split on"
   ]
  },
  {
   "cell_type": "code",
   "execution_count": 41,
   "metadata": {
    "collapsed": false
   },
   "outputs": [
    {
     "name": "stdout",
     "output_type": "stream",
     "text": [
      "First node to split on:  Uniformity of Cell Size\n"
     ]
    }
   ],
   "source": [
    "attribute_list = list(train)[:-1]\n",
    "attribute_list\n",
    "minimum_entropy = calculate_entropy(attribute_list[0], train)\n",
    "for attribute in attribute_list:\n",
    "    if calculate_entropy(attribute, train) < minimum_entropy:\n",
    "        minimum_entropy = calculate_entropy(attribute, train)\n",
    "        minimum_attribute = attribute\n",
    "print \"First node to split on: \", minimum_attribute\n",
    "\n",
    "attribute_list.remove(minimum_attribute)"
   ]
  },
  {
   "cell_type": "markdown",
   "metadata": {},
   "source": [
    "##### Function to store all the split values  and  the row indices containing the data on a particular node"
   ]
  },
  {
   "cell_type": "code",
   "execution_count": 42,
   "metadata": {
    "collapsed": false
   },
   "outputs": [],
   "source": [
    "def entropy_branch_calculation(attribute, data, parent_value):\n",
    "    entropy_branch_dict = {}\n",
    "    value_list = data[attribute].unique().tolist()\n",
    "    d = data.groupby([attribute, \"Class\"]).size().to_dict()\n",
    "    hashmap = collections.defaultdict(lambda: [0,0])\n",
    "    for key in d:\n",
    "        if key[1] == 2:\n",
    "            hashmap[key[0]][0] = d[key]\n",
    "        if key[1] == 4:\n",
    "            hashmap[key[0]][1] = d[key]\n",
    "    for key in hashmap:\n",
    "        entropy_branch = 0.0\n",
    "        if hashmap[key][0] != 0.0:\n",
    "            try:\n",
    "                entropy_branch += float(hashmap[key][0])\\\n",
    "                /(sum(hashmap[key])) * \\\n",
    "                np.log2(float(hashmap[key][0])\\\n",
    "                        /(sum(hashmap[key])))\n",
    "            except:\n",
    "                entropy_branch += 0.0\n",
    "        if hashmap[key][1] != 0.0:\n",
    "            try:\n",
    "                entropy_branch += float(hashmap[key][1])\\\n",
    "                /(sum(hashmap[key])) * \\\n",
    "                np.log2(float(hashmap[key][1])\\\n",
    "                        /(sum(hashmap[key])))\n",
    "            except:\n",
    "                entropy_branch += 0.0\n",
    "        class_predicted = '2' if hashmap[key][0] > hashmap[key][1] else '4'\n",
    "        if entropy_branch != 0:\n",
    "            entropy_branch_dict\\\n",
    "            [(parent_value, attribute, key, class_predicted)] \\\n",
    "            = (data[(data[attribute]  == key)].index.tolist())\n",
    "    return entropy_branch_dict\n",
    "entropy_branch =  entropy_branch_calculation\\\n",
    "(minimum_attribute, train, None)\n"
   ]
  },
  {
   "cell_type": "markdown",
   "metadata": {},
   "source": [
    "#### Build the Tree. I am performing a Breadth First Traversal of the tree structure and each node stores the following value: (Parent's  value, Current Attribute, Current Attribute Value, Child Attribute, Class Predicted ). The output we see below is the tree structure. "
   ]
  },
  {
   "cell_type": "code",
   "execution_count": 43,
   "metadata": {
    "collapsed": false
   },
   "outputs": [
    {
     "name": "stdout",
     "output_type": "stream",
     "text": [
      "defaultdict(<type 'list'>, {0: [(None, None, None, 'Uniformity of Cell Size', None)], 1: [(None, 'Uniformity of Cell Size', 8, 'Marginal Adhesion', '4'), (None, 'Uniformity of Cell Size', 1, 'Clump Thickness', '2'), (None, 'Uniformity of Cell Size', 4, 'Clump Thickness', '4'), (None, 'Uniformity of Cell Size', 7, 'Bare Nuclei', '4'), (None, 'Uniformity of Cell Size', 2, 'Bare Nuclei', '2'), (None, 'Uniformity of Cell Size', 3, 'Bare Nuclei', '4')], 2: [(3, 'Bare Nuclei', 2, 'Uniformity of Cell Shape', '2'), (3, 'Bare Nuclei', 3, 'Uniformity of Cell Shape', '4'), (3, 'Bare Nuclei', 2, 'Uniformity of Cell Shape', '2'), (3, 'Bare Nuclei', 3, 'Uniformity of Cell Shape', '4'), (3, 'Bare Nuclei', 2, 'Uniformity of Cell Shape', '2'), (3, 'Bare Nuclei', 3, 'Uniformity of Cell Shape', '4')], 3: []})\n"
     ]
    }
   ],
   "source": [
    "#Step 2 - make a decision tree and perform split\n",
    "\n",
    "\n",
    "level = collections.defaultdict(list)\n",
    "level[0].append((None, None, None, minimum_attribute, None))\n",
    "queue = []\n",
    "count_level = 0\n",
    "queue.append((count_level, entropy_branch))\n",
    "# print queue\n",
    "count_level += 1\n",
    "while len(attribute_list) > 0 and len(queue) > 0:\n",
    "    for node in queue:\n",
    "        level_order_queue = []\n",
    "        for key in node[1]:\n",
    "            data = train.loc[node[1][key]]\n",
    "            minimum_entropy = calculate_entropy(attribute_list[0], data)\n",
    "            minimum_attribute = attribute_list[0]\n",
    "            for attribute in attribute_list:\n",
    "                entropy = calculate_entropy(attribute, data)\n",
    "                if entropy < minimum_entropy:\n",
    "                    minimum_entropy = entropy\n",
    "                    minimum_attribute = attribute\n",
    "            level[count_level].append((key[0], key[1], key[2], \\\n",
    "                                       minimum_attribute, key[3]))\n",
    "            entropy_branch_node = entropy_branch_calculation\\\n",
    "            (minimum_attribute, data, key[2])\n",
    "            level_order_queue.append(entropy_branch_node)\n",
    "        queue.pop(0)\n",
    "        if len(queue) == 0:\n",
    "            for node_level_order in level_order_queue:\n",
    "                queue.append((count_level, node_level_order))\n",
    "            attribute_list_level = []\n",
    "            for attribute_level in level[count_level]:\n",
    "                attribute_list_level.append(attribute_level[3])\n",
    "            for attribute in set(attribute_list_level):\n",
    "                attribute_list.remove(attribute)\n",
    "            count_level += 1\n",
    "print level\n",
    "            \n",
    "    \n",
    "\n",
    "\n",
    "\n"
   ]
  },
  {
   "cell_type": "markdown",
   "metadata": {},
   "source": [
    "## Tree Structure using Cross Entropy: \n",
    "\n",
    "defaultdict(<type 'list'>, {0: [(None, None, None, 'Uniformity of Cell Size', None)], 1: [(None, 'Uniformity of Cell Size', 8, 'Marginal Adhesion', '4'), (None, 'Uniformity of Cell Size', 1, 'Clump Thickness', '2'), (None, 'Uniformity of Cell Size', 4, 'Clump Thickness', '4'), (None, 'Uniformity of Cell Size', 7, 'Bare Nuclei', '4'), (None, 'Uniformity of Cell Size', 2, 'Bare Nuclei', '2'), (None, 'Uniformity of Cell Size', 3, 'Bare Nuclei', '4')], 2: [(3, 'Bare Nuclei', 2, 'Uniformity of Cell Shape', '2'), (3, 'Bare Nuclei', 3, 'Uniformity of Cell Shape', '4'), (3, 'Bare Nuclei', 2, 'Uniformity of Cell Shape', '2'), (3, 'Bare Nuclei', 3, 'Uniformity of Cell Shape', '4'), (3, 'Bare Nuclei', 2, 'Uniformity of Cell Shape', '2'), (3, 'Bare Nuclei', 3, 'Uniformity of Cell Shape', '4')], 3: []})\n"
   ]
  },
  {
   "cell_type": "markdown",
   "metadata": {},
   "source": [
    "#### Calculating Training Accuracy - I am calculating the accuracy for each level of the tree after all the nodes at a certain level have been added. My tree has 2 levels and I am calculating the accuracy at 1st and 2nd level of tree"
   ]
  },
  {
   "cell_type": "code",
   "execution_count": 36,
   "metadata": {
    "collapsed": false
   },
   "outputs": [
    {
     "name": "stdout",
     "output_type": "stream",
     "text": [
      "Accuracy on first level of tree: 0.932166301969\n",
      "Accuracy on 2nd level of tree:  0.951859956236\n"
     ]
    }
   ],
   "source": [
    "#calculating training accuracy\n",
    "\n",
    "correctly_classified_level_1 = 0\n",
    "feature_values = range(1,11)\n",
    "for data in level[1]:\n",
    "    if data[4] == '2':\n",
    "        correctly_classified_level_1 += hashmap[data[2]][0]\n",
    "        \n",
    "    else:\n",
    "        correctly_classified_level_1 += hashmap[data[2]][1]\n",
    "    feature_values.remove(data[2])\n",
    "        \n",
    "for val in feature_values:\n",
    "    correctly_classified_level_1 += sum(hashmap[val])\n",
    "print \"Accuracy on first level of tree:\", \\\n",
    "float(correctly_classified_level_1)/len(train)\n",
    "\n",
    "bare_nuclei_split_row_indices_2 = \\\n",
    "train[(train['Uniformity of Cell Size']  == 2)]\\\n",
    ".index.tolist()\n",
    "bare_nuclei_split_row_indices_1 = \\\n",
    "train[(train['Uniformity of Cell Size']  == 1)]\\\n",
    ".index.tolist()\n",
    "single_epithelial_row_indices_4 = \\\n",
    "train[(train['Uniformity of Cell Size']  == 4)]\\\n",
    ".index.tolist()\n",
    "bare_nuclei_split_data_2 = train.loc\\\n",
    "[bare_nuclei_split_row_indices_2]\n",
    "bare_nuclei_split_data_1 = train.loc\\\n",
    "[bare_nuclei_split_row_indices_1]\n",
    "single_epithelial_split_data_4 = train.loc\\\n",
    "[single_epithelial_row_indices_4]\n",
    "d1 = bare_nuclei_split_data_2.groupby\\\n",
    "([\"Bare Nuclei\", \"Class\"]).size().to_dict()\n",
    "hashmap1 = collections.defaultdict(lambda: [0,0])\n",
    "for key in d1:\n",
    "    if key[1] == 2:\n",
    "        hashmap1[key[0]][0] = d1[key]\n",
    "    if key[1] == 4:\n",
    "        hashmap1[key[0]][1] = d1[key]\n",
    "d2 = single_epithelial_split_data_4.groupby\\\n",
    "([\"Single Epithelial Cell Size\", \"Class\"])\\\n",
    ".size().to_dict()\n",
    "d3 = bare_nuclei_split_data_1.groupby\\\n",
    "([\"Bare Nuclei\", \"Class\"]).size().to_dict()\n",
    "hashmap2 = collections.defaultdict(lambda: [0,0])\n",
    "for key in d2:\n",
    "    if key[1] == 2:\n",
    "        hashmap2[key[0]][0] = d2[key]\n",
    "    if key[1] == 4:\n",
    "        hashmap2[key[0]][1] = d2[key]\n",
    "correctly_classified_level_2 = 0\n",
    "feature_values = range(1,11)\n",
    "\n",
    "bare_nuclei_split_row_indices_3 = \\\n",
    "train[(train['Uniformity of Cell Size']  == 3)]\\\n",
    ".index.tolist()\n",
    "bare_nuclei_split_data_3 = \\\n",
    "train.loc[bare_nuclei_split_row_indices_3]\n",
    "d4 = bare_nuclei_split_data_3.\\\n",
    "groupby([\"Bare Nuclei\", \"Class\"]).size().to_dict()\n",
    "\n",
    "clump_thickness_split_row_indices_2 = \\\n",
    "train[(train['Uniformity of Cell Size']  == 2)]\\\n",
    ".index.tolist()\n",
    "clump_thickness_split_data_2 = \\\n",
    "train.loc[clump_thickness_split_row_indices_2]\n",
    "d5 = clump_thickness_split_data_2.\\\n",
    "groupby([\"Clump Thickness\", \"Class\"]).size().\\\n",
    "to_dict()\n",
    "\n",
    "correctly_classified_level_2 = (18+246+20+27+13+25+23+16+3+44)\n",
    "print \"Accuracy on 2nd level of tree: \", \\\n",
    "float(correctly_classified_level_2)/len(train)"
   ]
  },
  {
   "cell_type": "markdown",
   "metadata": {},
   "source": [
    "##### Calculating Accuracy on test dataset"
   ]
  },
  {
   "cell_type": "code",
   "execution_count": 37,
   "metadata": {
    "collapsed": false
   },
   "outputs": [
    {
     "name": "stdout",
     "output_type": "stream",
     "text": [
      "Accuracy on first level of tree:  0.920353982301\n",
      "Accuracy on 2nd level of tree:  0.942477876106\n"
     ]
    }
   ],
   "source": [
    "#calculating testing accuracy\n",
    "\n",
    "import collections\n",
    "d = test.groupby([\"Uniformity of Cell Size\", \"Class\"])\\\n",
    ".size().to_dict()\n",
    "hashmap_test = collections.defaultdict(lambda: [0,0])\n",
    "for key in d:\n",
    "    if key[1] == 2:\n",
    "        hashmap_test[key[0]][0] = d[key]\n",
    "    if key[1] == 4:\n",
    "        hashmap_test[key[0]][1] = d[key]\n",
    "\n",
    "correctly_classified_level_1_test = 0\n",
    "feature_values = range(1,11)\n",
    "for data in level[1]:\n",
    "    if data[4] == '2':\n",
    "        correctly_classified_level_1_test += \\\n",
    "        hashmap_test[data[2]][0]\n",
    "        \n",
    "    else:\n",
    "        correctly_classified_level_1_test += \\\n",
    "        hashmap_test[data[2]][1]\n",
    "    feature_values.remove(data[2])\n",
    "        \n",
    "for val in feature_values:\n",
    "    correctly_classified_level_1_test += \\\n",
    "    sum(hashmap_test[val])\n",
    "print \"Accuracy on first level of tree: \", \\\n",
    "float(correctly_classified_level_1_test)/len(test)\n",
    "\n",
    "bare_nuclei_split_row_indices_1 = \\\n",
    "test[(test['Uniformity of Cell Size']  == 1)].\\\n",
    "index.tolist()\n",
    "bare_nuclei_split_data_1 = \\\n",
    "test.loc[bare_nuclei_split_row_indices_1]\n",
    "d1 = bare_nuclei_split_data_1.\\\n",
    "groupby([\"Bare Nuclei\", \"Class\"]).size().to_dict()\n",
    "\n",
    "\n",
    "bare_nuclei_split_row_indices_3 = \\\n",
    "test[(test['Uniformity of Cell Size']  == 3)].\\\n",
    "index.tolist()\n",
    "bare_nuclei_split_data_3 = test.loc[bare_nuclei_split_row_indices_3]\n",
    "d2 = bare_nuclei_split_data_3.\\\n",
    "groupby([\"Bare Nuclei\", \"Class\"]).size().to_dict()\n",
    "\n",
    "clump_thickness_split_row_indices_2 = \\\n",
    "test[(test['Uniformity of Cell Size']  == 2)].\\\n",
    "index.tolist()\n",
    "clump_thickness_split_data_2 = \\\n",
    "test.loc[clump_thickness_split_row_indices_2]\n",
    "d3 = clump_thickness_split_data_2.\\\n",
    "groupby([\"Clump Thickness\", \"Class\"]).size().to_dict()\n",
    "\n",
    "correctly_classified_level_2_test = \\\n",
    "(9+118+10+17+5+13+7+9+2+23)\n",
    "print \"Accuracy on 2nd level of tree: \", \\\n",
    "float(correctly_classified_level_2_test)/len(test)\n",
    "\n",
    "\n"
   ]
  },
  {
   "cell_type": "markdown",
   "metadata": {},
   "source": [
    "##### Plotting the training accuracy at levels 1 and 2"
   ]
  },
  {
   "cell_type": "code",
   "execution_count": 19,
   "metadata": {
    "collapsed": false
   },
   "outputs": [
    {
     "data": {
      "image/png": "[encoded data removed]",
      "text/plain": [
       "<matplotlib.figure.Figure at 0x114b9de50>"
      ]
     },
     "metadata": {},
     "output_type": "display_data"
    }
   ],
   "source": [
    "import matplotlib.pyplot as plt\n",
    "training_accuracy = [0.932166301969, 0.951859956236]\n",
    "\n",
    "\n",
    "plt.plot([1,2], training_accuracy)\n",
    "plt.ylabel('training accuracy')\n",
    "plt.xlabel('level of tree')\n",
    "plt.show()\n"
   ]
  },
  {
   "cell_type": "markdown",
   "metadata": {},
   "source": [
    "##### Plotting testing accuracy on levels 1 and 2"
   ]
  },
  {
   "cell_type": "code",
   "execution_count": 20,
   "metadata": {
    "collapsed": false
   },
   "outputs": [
    {
     "data": {
      "image/png": "[encoded data removed]",
      "text/plain": [
       "<matplotlib.figure.Figure at 0x114cbcd10>"
      ]
     },
     "metadata": {},
     "output_type": "display_data"
    }
   ],
   "source": [
    "testing_accuracy = [0.920353982301, 0.942477876106]\n",
    "plt.plot([1,2], testing_accuracy)\n",
    "plt.ylabel('testing accuracy')\n",
    "plt.xlabel('level of tree')\n",
    "plt.show()"
   ]
  },
  {
   "cell_type": "markdown",
   "metadata": {},
   "source": [
    "## Decision Tree using Gini Index:"
   ]
  },
  {
   "cell_type": "code",
   "execution_count": 44,
   "metadata": {
    "collapsed": false
   },
   "outputs": [],
   "source": [
    "#calculating gini index\n",
    "def calculate_gini_index(attribute, data):\n",
    "    gini_index = 0.0\n",
    "    d = data.groupby([attribute, \"Class\"]).size().to_dict()\n",
    "    hashmap = collections.defaultdict(lambda: [0,0])\n",
    "    for key in d:\n",
    "        if key[1] == 2:\n",
    "            hashmap[key[0]][0] = d[key]\n",
    "        if key[1] == 4:\n",
    "            hashmap[key[0]][1] = d[key]\n",
    "    total = sum([sum(x) for x in hashmap.values()])\n",
    "    for key in hashmap:\n",
    "        gini_index_branch = 0.0\n",
    "        if hashmap[key][0] != 0.0:\n",
    "            try:\n",
    "                gini_index_branch += float(hashmap[key][0])\\\n",
    "                /(sum(hashmap[key])) * \\\n",
    "                (1 - float(hashmap[key][0])/(sum(hashmap[key])))\n",
    "            except:\n",
    "                gini_index_branch += 0.0\n",
    "        if hashmap[key][1] != 0.0:\n",
    "            try:\n",
    "                gini_index_branch += float(hashmap[key][1])\\\n",
    "                /(sum(hashmap[key])) * \\\n",
    "                (1 - float(hashmap[key][1])/(sum(hashmap[key])))\n",
    "            except:\n",
    "                gini_index_branch += 0.0\n",
    "        gini_index += sum(hashmap[key]) * (gini_index_branch)/total \n",
    "    return gini_index\n"
   ]
  },
  {
   "cell_type": "code",
   "execution_count": 45,
   "metadata": {
    "collapsed": false
   },
   "outputs": [
    {
     "name": "stdout",
     "output_type": "stream",
     "text": [
      "First node to split on:  Uniformity of Cell Size\n"
     ]
    }
   ],
   "source": [
    "attribute_list = list(train)[:-1]\n",
    "minimum_gini_index = calculate_gini_index(attribute_list[0], train)\n",
    "minimum_attribute_gini_index = attribute_list[0]\n",
    "for attribute in attribute_list:\n",
    "    if calculate_gini_index(attribute, train) < minimum_gini_index:\n",
    "        minimum_gini_index = calculate_gini_index(attribute, train)\n",
    "        minimum_attribute_gini_index = attribute\n",
    "print \"First node to split on: \", minimum_attribute_gini_index\n",
    "\n",
    "attribute_list.remove(minimum_attribute_gini_index)"
   ]
  },
  {
   "cell_type": "code",
   "execution_count": 46,
   "metadata": {
    "collapsed": false
   },
   "outputs": [],
   "source": [
    "def gini_index_branch_calculation(attribute, data, parent_value):\n",
    "    gini_index_branch_dict = {}\n",
    "    value_list = data[attribute].unique().tolist()\n",
    "    d = data.groupby([attribute, \"Class\"]).size().to_dict()\n",
    "    hashmap = collections.defaultdict(lambda: [0,0])\n",
    "    for key in d:\n",
    "        if key[1] == 2:\n",
    "            hashmap[key[0]][0] = d[key]\n",
    "        if key[1] == 4:\n",
    "            hashmap[key[0]][1] = d[key]\n",
    "    for key in hashmap:\n",
    "        gini_index_branch = 0.0\n",
    "        if hashmap[key][0] != 0.0:\n",
    "            try:\n",
    "                gini_index_branch += float(hashmap[key][0])\\\n",
    "                /(sum(hashmap[key])) * \\\n",
    "                (1 - float(hashmap[key][0])/(sum(hashmap[key])))\n",
    "            except:\n",
    "                gini_index_branch += 0.0\n",
    "        if hashmap[key][1] != 0.0:\n",
    "            try:\n",
    "                gini_index_branch += float(hashmap[key][1])\\\n",
    "                /(sum(hashmap[key])) * \\\n",
    "                (1 - float(hashmap[key][1])/(sum(hashmap[key])))\n",
    "            except:\n",
    "                gini_index_branch += 0.0\n",
    "        class_predicted = '2' if hashmap[key][0] > \\\n",
    "        hashmap[key][1] else '4'\n",
    "        if gini_index_branch != 0:\n",
    "            gini_index_branch_dict\\\n",
    "            [(parent_value, attribute, key, class_predicted)]\\\n",
    "            = (data[(data[attribute]  == key)].index.tolist())\n",
    "    return gini_index_branch_dict\n",
    "gini_index_branch =  gini_index_branch_calculation\\\n",
    "(minimum_attribute_gini_index, train, None)\n"
   ]
  },
  {
   "cell_type": "code",
   "execution_count": 47,
   "metadata": {
    "collapsed": false
   },
   "outputs": [
    {
     "name": "stdout",
     "output_type": "stream",
     "text": [
      "defaultdict(<type 'list'>, {0: [(None, None, None, 'Uniformity of Cell Size', None)], 1: [(None, 'Uniformity of Cell Size', 8, 'Marginal Adhesion', '4'), (None, 'Uniformity of Cell Size', 1, 'Clump Thickness', '2'), (None, 'Uniformity of Cell Size', 4, 'Clump Thickness', '4'), (None, 'Uniformity of Cell Size', 7, 'Bare Nuclei', '4'), (None, 'Uniformity of Cell Size', 2, 'Bare Nuclei', '2'), (None, 'Uniformity of Cell Size', 3, 'Bare Nuclei', '4')], 2: [(3, 'Bare Nuclei', 2, 'Uniformity of Cell Shape', '2'), (3, 'Bare Nuclei', 3, 'Uniformity of Cell Shape', '4'), (3, 'Bare Nuclei', 2, 'Uniformity of Cell Shape', '2'), (3, 'Bare Nuclei', 3, 'Uniformity of Cell Shape', '4'), (3, 'Bare Nuclei', 2, 'Uniformity of Cell Shape', '2'), (3, 'Bare Nuclei', 3, 'Uniformity of Cell Shape', '4')], 3: []})\n"
     ]
    }
   ],
   "source": [
    "#Step 2 - make a decision tree and perform split\n",
    "\n",
    "\n",
    "level = collections.defaultdict(list)\n",
    "level[0].append\\\n",
    "((None, None, None, minimum_attribute_gini_index, None))\n",
    "queue = []\n",
    "count_level = 0\n",
    "queue.append((count_level, gini_index_branch))\n",
    "count_level += 1\n",
    "while len(attribute_list) > 0 and len(queue) > 0:\n",
    "    for node in queue:\n",
    "        level_order_queue = []\n",
    "        for key in node[1]:\n",
    "            data = train.loc[node[1][key]]\n",
    "            minimum_gini_index = \\\n",
    "            calculate_gini_index(attribute_list[0], data)\n",
    "            minimum_attribute_gini_index = attribute_list[0]\n",
    "            for attribute in attribute_list:\n",
    "                gini_index = calculate_gini_index(attribute, data)\n",
    "                if gini_index < minimum_gini_index:\n",
    "                    minimum_gini_index = gini_index\n",
    "                    minimum_attribute_gini_index = attribute\n",
    "            level[count_level].append\\\n",
    "            ((key[0], key[1], key[2], \\\n",
    "              minimum_attribute_gini_index, key[3]))\n",
    "            gini_index_branch_node = \\\n",
    "            gini_index_branch_calculation\\\n",
    "            (minimum_attribute_gini_index, data, key[2])\n",
    "            level_order_queue.append(gini_index_branch_node)\n",
    "        queue.pop(0)\n",
    "        if len(queue) == 0:\n",
    "            for node_level_order in level_order_queue:\n",
    "                queue.append((count_level, node_level_order))\n",
    "            attribute_list_level = []\n",
    "            for attribute_level in level[count_level]:\n",
    "                attribute_list_level.append(attribute_level[3])\n",
    "            for attribute in set(attribute_list_level):\n",
    "                attribute_list.remove(attribute)\n",
    "            count_level += 1\n",
    "print level\n"
   ]
  },
  {
   "cell_type": "markdown",
   "metadata": {},
   "source": [
    "## Decision Tree using Gini Index\n",
    "\n",
    "defaultdict(<type 'list'>, {0: [(None, None, None, 'Uniformity of Cell Size', None)], 1: [(None, 'Uniformity of Cell Size', 8, 'Marginal Adhesion', '4'), (None, 'Uniformity of Cell Size', 1, 'Clump Thickness', '2'), (None, 'Uniformity of Cell Size', 4, 'Clump Thickness', '4'), (None, 'Uniformity of Cell Size', 7, 'Bare Nuclei', '4'), (None, 'Uniformity of Cell Size', 2, 'Bare Nuclei', '2'), (None, 'Uniformity of Cell Size', 3, 'Bare Nuclei', '4')], 2: [(3, 'Bare Nuclei', 2, 'Uniformity of Cell Shape', '2'), (3, 'Bare Nuclei', 3, 'Uniformity of Cell Shape', '4'), (3, 'Bare Nuclei', 2, 'Uniformity of Cell Shape', '2'), (3, 'Bare Nuclei', 3, 'Uniformity of Cell Shape', '4'), (3, 'Bare Nuclei', 2, 'Uniformity of Cell Shape', '2'), (3, 'Bare Nuclei', 3, 'Uniformity of Cell Shape', '4')], 3: []})\n"
   ]
  },
  {
   "cell_type": "markdown",
   "metadata": {},
   "source": [
    "##### The decision tree we get from gini index is same as that we get from entropy calculation. So training accuracy and testing accuracy are also same.\n",
    "\n"
   ]
  },
  {
   "cell_type": "markdown",
   "metadata": {},
   "source": [
    "#### Plotting training and testing accuracy with Gini Index Calculation"
   ]
  },
  {
   "cell_type": "code",
   "execution_count": 29,
   "metadata": {
    "collapsed": false
   },
   "outputs": [
    {
     "data": {
      "image/png": "[encoded data removed]",
      "text/plain": [
       "<matplotlib.figure.Figure at 0x111cb4310>"
      ]
     },
     "metadata": {},
     "output_type": "display_data"
    }
   ],
   "source": [
    "training_accuracy = [0.932166301969, 0.951859956236]\n",
    "\n",
    "\n",
    "plt.plot([1,2], training_accuracy)\n",
    "plt.ylabel('training accuracy')\n",
    "plt.xlabel('level of tree')\n",
    "plt.show()"
   ]
  },
  {
   "cell_type": "code",
   "execution_count": 30,
   "metadata": {
    "collapsed": false
   },
   "outputs": [
    {
     "data": {
      "image/png": "[encoded data removed]",
      "text/plain": [
       "<matplotlib.figure.Figure at 0x11504d790>"
      ]
     },
     "metadata": {},
     "output_type": "display_data"
    }
   ],
   "source": [
    "testing_accuracy = [0.920353982301, 0.942477876106]\n",
    "plt.plot([1,2], testing_accuracy)\n",
    "plt.ylabel('testing accuracy')\n",
    "plt.xlabel('level of tree')\n",
    "plt.show()"
   ]
  }
 ],
 "metadata": {
  "anaconda-cloud": {},
  "kernelspec": {
   "display_name": "Python 2",
   "language": "python",
   "name": "python2"
  },
  "language_info": {
   "codemirror_mode": {
    "name": "ipython",
    "version": 2
   },
   "file_extension": ".py",
   "mimetype": "text/x-python",
   "name": "python",
   "nbconvert_exporter": "python",
   "pygments_lexer": "ipython2",
   "version": "2.7.13"
  }
 },
 "nbformat": 4,
 "nbformat_minor": 1
}
